{
 "cells": [
  {
   "cell_type": "markdown",
   "metadata": {},
   "source": [
    "# INFO 370 2021 Wi - Python Pandas Basics\n",
    "\n",
    "*Name:* Peachyapa Saengcharoentrakul"
   ]
  },
  {
   "cell_type": "markdown",
   "metadata": {},
   "source": [
    "### Instructions\n",
    "\n",
    "1. Please complete the lab tutorial during your respective lab session.\n",
    "\n",
    "2. Please write down your name and your collaborators (if any).\n",
    "\n",
    "3. In this exercise you will get hands-on experience in importing data into structured format, summarizing data using descriptive statistics (e,g, sum, average, etc.) and manipulating data including indexing, slicing and grouping.\n",
    "\n",
    "4. The data you will be working with is the pulled from Johns Hopkins University COVID-19 Data Repository, and we will be focusing on confirmed COVID-19 deaths throughought the US. It is a daily record, collected from local and state health departments.  You can find [additional information](https://github.com/CSSEGISandData/COVID-19/blob/master/csse_covid_19_data/README.md) and [updated data](https://github.com/CSSEGISandData/COVID-19/tree/master/csse_covid_19_data/csse_covid_19_time_series) on github.\n",
    "\n",
    "Some of the more unclear variables:\n",
    "    * FIPS: US only. Federal Information Processing Standards code that uniquely identifies counties within the USA.\n",
    "    * Admin2: County name\n",
    "    * UID: Similar to Admin2, but includes locations like Diamond Princess, unassigned, etc. (Not needed for this activity)\n",
    "    * \"6/16/2020\": total number of confirmed COVID-19 deaths as of June 16, 2020\n",
    "\n",
    "5. For each question, please type your codesin a *Code* cell and your written response which summarizes your results in a *Markdown* cell.\n",
    "\n",
    "6. Don't be scared. We are here to help you learn. :)"
   ]
  },
  {
   "cell_type": "code",
   "execution_count": 15,
   "metadata": {},
   "outputs": [],
   "source": [
    "# import packages\n",
    "import numpy as np\n",
    "import pandas as pd\n",
    "import os\n",
    "# you may import other packages if necessary"
   ]
  },
  {
   "cell_type": "markdown",
   "metadata": {},
   "source": [
    "### 1. Data Import and Data Summary"
   ]
  },
  {
   "cell_type": "markdown",
   "metadata": {},
   "source": [
    "**(a) Load the data into a pandas dataframe.**\n",
    "\n",
    "Use `pd.read_csv` and check what is the right separator (`sep=...`).  Print the first few lines of it as a sanity check.\n",
    "\n",
    "Note: `pd.read_csv` can read compressed files directly, you do not have to decompress those."
   ]
  },
  {
   "cell_type": "code",
   "execution_count": 33,
   "metadata": {},
   "outputs": [],
   "source": [
    "# Your codes here\n",
    "data = pd.read_csv(\"data/time_series_covid19_deaths_US-reduced.csv\", sep=\"\\t\")"
   ]
  },
  {
   "cell_type": "markdown",
   "metadata": {},
   "source": [
    "**(b) It's time to get to know your data! Report the number of rows and columns in the dataset.**"
   ]
  },
  {
   "cell_type": "code",
   "execution_count": 17,
   "metadata": {},
   "outputs": [
    {
     "data": {
      "text/plain": [
       "(3340, 29)"
      ]
     },
     "execution_count": 17,
     "metadata": {},
     "output_type": "execute_result"
    }
   ],
   "source": [
    "data.shape"
   ]
  },
  {
   "cell_type": "markdown",
   "metadata": {},
   "source": [
    "Number of columns: 29\n",
    "Number of rows: 3340"
   ]
  },
  {
   "cell_type": "markdown",
   "metadata": {},
   "source": [
    "**(c) What variables does this dataset have? Report the variable names along with the data type of each variable.**"
   ]
  },
  {
   "cell_type": "code",
   "execution_count": 18,
   "metadata": {},
   "outputs": [
    {
     "data": {
      "text/plain": [
       "UID                 int64\n",
       "iso2               object\n",
       "FIPS              float64\n",
       "Admin2             object\n",
       "Province_State     object\n",
       "Lat               float64\n",
       "Long_             float64\n",
       "Combined_Key       object\n",
       "Population          int64\n",
       "2/1/20              int64\n",
       "3/1/20              int64\n",
       "4/1/20              int64\n",
       "5/1/20              int64\n",
       "6/1/20              int64\n",
       "7/1/20              int64\n",
       "8/1/20              int64\n",
       "9/1/20              int64\n",
       "10/1/20             int64\n",
       "11/1/20             int64\n",
       "12/1/20             int64\n",
       "1/1/21              int64\n",
       "1/2/21              int64\n",
       "1/3/21              int64\n",
       "1/4/21              int64\n",
       "1/5/21              int64\n",
       "1/6/21              int64\n",
       "1/7/21              int64\n",
       "1/8/21              int64\n",
       "1/9/21              int64\n",
       "dtype: object"
      ]
     },
     "execution_count": 18,
     "metadata": {},
     "output_type": "execute_result"
    }
   ],
   "source": [
    "# Your codes here\n",
    "data.dtypes"
   ]
  },
  {
   "cell_type": "markdown",
   "metadata": {},
   "source": [
    "**(d) What is the number of NULL/NA values in each column of the dataframe?**"
   ]
  },
  {
   "cell_type": "code",
   "execution_count": 19,
   "metadata": {},
   "outputs": [
    {
     "data": {
      "text/plain": [
       "UID                0\n",
       "iso2               0\n",
       "FIPS              10\n",
       "Admin2             6\n",
       "Province_State     0\n",
       "Lat                0\n",
       "Long_              0\n",
       "Combined_Key       0\n",
       "Population         0\n",
       "2/1/20             0\n",
       "3/1/20             0\n",
       "4/1/20             0\n",
       "5/1/20             0\n",
       "6/1/20             0\n",
       "7/1/20             0\n",
       "8/1/20             0\n",
       "9/1/20             0\n",
       "10/1/20            0\n",
       "11/1/20            0\n",
       "12/1/20            0\n",
       "1/1/21             0\n",
       "1/2/21             0\n",
       "1/3/21             0\n",
       "1/4/21             0\n",
       "1/5/21             0\n",
       "1/6/21             0\n",
       "1/7/21             0\n",
       "1/8/21             0\n",
       "1/9/21             0\n",
       "dtype: int64"
      ]
     },
     "execution_count": 19,
     "metadata": {},
     "output_type": "execute_result"
    }
   ],
   "source": [
    "# Your codes here\n",
    "data.isnull().sum(axis=0) #I am googling half of this https://stackoverflow.com/questions/22257527/how-do-i-get-a-summary-count-of-missing-nan-data-by-column-in-pandas\n",
    "#alternatively, the total NAs data.isnull().sum().sum()"
   ]
  },
  {
   "cell_type": "markdown",
   "metadata": {},
   "source": [
    "### 2. Data Manipulation - Explore Death Tolls by State"
   ]
  },
  {
   "cell_type": "markdown",
   "metadata": {},
   "source": [
    "**(a) What are the 'states/provices' with the most confirmed deaths as of 6/16/2020?**\n",
    "\n",
    "Hint: check out _DataFrame.groupby_ method, _Series.sum()_ method, and _Series.sort__values()_ method."
   ]
  },
  {
   "cell_type": "code",
   "execution_count": 72,
   "metadata": {},
   "outputs": [],
   "source": [
    "by_state = data.groupby(['Province_State'])['6/1/20'].sum().sort_values(ascending=False)"
   ]
  },
  {
   "cell_type": "markdown",
   "metadata": {},
   "source": [
    "What is the data structure you got?  What is its index and what is its value?\n",
    "\n",
    "Hint: use `type` for data type, and `.index` and `.values` for the latter."
   ]
  },
  {
   "cell_type": "code",
   "execution_count": 73,
   "metadata": {},
   "outputs": [
    {
     "data": {
      "text/plain": [
       "Index(['New York', 'New Jersey', 'Massachusetts', 'Michigan', 'Pennsylvania',\n",
       "       'Illinois', 'California', 'Connecticut', 'Louisiana', 'Maryland',\n",
       "       'Florida', 'Ohio', 'Indiana', 'Georgia', 'Texas', 'Colorado',\n",
       "       'Virginia', 'Washington', 'Minnesota', 'North Carolina', 'Arizona',\n",
       "       'Rhode Island', 'Missouri', 'Mississippi', 'Wisconsin', 'Alabama',\n",
       "       'Iowa', 'South Carolina', 'District of Columbia', 'Kentucky', 'Nevada',\n",
       "       'Delaware', 'Tennessee', 'New Mexico', 'Oklahoma', 'New Hampshire',\n",
       "       'Kansas', 'Nebraska', 'Oregon', 'Puerto Rico', 'Arkansas', 'Utah',\n",
       "       'Maine', 'Idaho', 'West Virginia', 'South Dakota', 'North Dakota',\n",
       "       'Vermont', 'Hawaii', 'Montana', 'Wyoming', 'Alaska', 'Virgin Islands',\n",
       "       'Guam', 'Grand Princess', 'Northern Mariana Islands',\n",
       "       'Diamond Princess', 'American Samoa'],\n",
       "      dtype='object', name='Province_State')"
      ]
     },
     "execution_count": 73,
     "metadata": {},
     "output_type": "execute_result"
    }
   ],
   "source": [
    "type(by_state)\n",
    "by_state.index"
   ]
  },
  {
   "cell_type": "code",
   "execution_count": 74,
   "metadata": {},
   "outputs": [
    {
     "data": {
      "text/plain": [
       "array([30832, 13547,  7035,  5758,  5567,  5412,  4217,  3970,  2801,\n",
       "        2552,  2460,  2207,  2143,  2094,  1879,  1458,  1392,  1128,\n",
       "        1060,   948,   918,   825,   815,   739,   656,   646,   555,\n",
       "         500,   468,   439,   417,   368,   364,   362,   334,   245,\n",
       "         217,   170,   154,   136,   133,   113,    89,    82,    76,\n",
       "          62,    61,    55,    17,    17,    17,    10,     6,     5,\n",
       "           3,     2,     0,     0])"
      ]
     },
     "execution_count": 74,
     "metadata": {},
     "output_type": "execute_result"
    }
   ],
   "source": [
    "by_state.values"
   ]
  },
  {
   "cell_type": "markdown",
   "metadata": {},
   "source": [
    "**(b) The 'states/provinces' column contains more than just the 50 States and DC. Please filter your results from 2a but only include the 50 states and DC**\n",
    "\n",
    "Below is the list of states made for you.\n",
    "\n",
    "Hint: use `pd.Series.isin()` method."
   ]
  },
  {
   "cell_type": "code",
   "execution_count": 22,
   "metadata": {},
   "outputs": [],
   "source": [
    "states_list = ['Alabama', 'Alaska', 'Arizona', 'Arkansas', 'California', 'Colorado', 'Connecticut', 'Delaware', 'District of Columbia', 'Florida', 'Georgia', 'Hawaii', 'Idaho', 'Illinois', 'Indiana', 'Iowa', 'Kansas', 'Kentucky', 'Louisiana', 'Maine', 'Maryland', 'Massachusetts', 'Michigan', 'Minnesota', 'Mississippi', 'Missouri', 'Montana', 'Nebraska', 'Nevada', 'New Hampshire', 'New Jersey', 'New Mexico', 'New York', 'North Carolina', 'North Dakota', 'Ohio', 'Oklahoma', 'Oregon', 'Pennsylvania', 'Rhode Island', 'South Carolina', 'South Dakota', 'Tennessee', 'Texas', 'Utah', 'Vermont', 'Virginia', 'Washington', 'West Virginia', 'Wisconsin', 'Wyoming']"
   ]
  },
  {
   "cell_type": "code",
   "execution_count": 23,
   "metadata": {},
   "outputs": [
    {
     "data": {
      "text/plain": [
       "Province_State\n",
       "New York                30832\n",
       "New Jersey              13547\n",
       "Massachusetts            7035\n",
       "Michigan                 5758\n",
       "Pennsylvania             5567\n",
       "Illinois                 5412\n",
       "California               4217\n",
       "Connecticut              3970\n",
       "Louisiana                2801\n",
       "Maryland                 2552\n",
       "Florida                  2460\n",
       "Ohio                     2207\n",
       "Indiana                  2143\n",
       "Georgia                  2094\n",
       "Texas                    1879\n",
       "Colorado                 1458\n",
       "Virginia                 1392\n",
       "Washington               1128\n",
       "Minnesota                1060\n",
       "North Carolina            948\n",
       "Arizona                   918\n",
       "Rhode Island              825\n",
       "Missouri                  815\n",
       "Mississippi               739\n",
       "Wisconsin                 656\n",
       "Alabama                   646\n",
       "Iowa                      555\n",
       "South Carolina            500\n",
       "District of Columbia      468\n",
       "Kentucky                  439\n",
       "Nevada                    417\n",
       "Delaware                  368\n",
       "Tennessee                 364\n",
       "New Mexico                362\n",
       "Oklahoma                  334\n",
       "New Hampshire             245\n",
       "Kansas                    217\n",
       "Nebraska                  170\n",
       "Oregon                    154\n",
       "Arkansas                  133\n",
       "Utah                      113\n",
       "Maine                      89\n",
       "Idaho                      82\n",
       "West Virginia              76\n",
       "South Dakota               62\n",
       "North Dakota               61\n",
       "Vermont                    55\n",
       "Hawaii                     17\n",
       "Montana                    17\n",
       "Wyoming                    17\n",
       "Alaska                     10\n",
       "Name: 6/1/20, dtype: int64"
      ]
     },
     "execution_count": 23,
     "metadata": {},
     "output_type": "execute_result"
    }
   ],
   "source": [
    "# answer here...\n",
    "by_state[by_state.index.isin(states_list)]"
   ]
  },
  {
   "cell_type": "markdown",
   "metadata": {},
   "source": [
    "**(c) What is the total number of confirmed deaths in Washington State as of 1/9/2021?**"
   ]
  },
  {
   "cell_type": "code",
   "execution_count": 105,
   "metadata": {},
   "outputs": [
    {
     "data": {
      "text/plain": [
       "Province_State\n",
       "New York                    39471\n",
       "Texas                       30313\n",
       "California                  29707\n",
       "Florida                     22804\n",
       "New Jersey                  19854\n",
       "Illinois                    19210\n",
       "Pennsylvania                17626\n",
       "Michigan                    14145\n",
       "Massachusetts               13074\n",
       "Georgia                     11457\n",
       "Arizona                     10036\n",
       "Ohio                         9599\n",
       "Indiana                      8966\n",
       "Louisiana                    7833\n",
       "Tennessee                    7704\n",
       "North Carolina               7425\n",
       "Connecticut                  6324\n",
       "Maryland                     6246\n",
       "Missouri                     6129\n",
       "South Carolina               5758\n",
       "Minnesota                    5731\n",
       "Wisconsin                    5567\n",
       "Virginia                     5381\n",
       "Alabama                      5299\n",
       "Colorado                     5190\n",
       "Mississippi                  5146\n",
       "Iowa                         4127\n",
       "Arkansas                     4010\n",
       "Washington                   3698\n",
       "Nevada                       3450\n",
       "Kansas                       3141\n",
       "Kentucky                     2876\n",
       "Oklahoma                     2738\n",
       "New Mexico                   2732\n",
       "Rhode Island                 1916\n",
       "Nebraska                     1737\n",
       "Puerto Rico                  1616\n",
       "Oregon                       1603\n",
       "West Virginia                1570\n",
       "South Dakota                 1570\n",
       "Idaho                        1528\n",
       "Utah                         1390\n",
       "North Dakota                 1352\n",
       "Montana                      1054\n",
       "Delaware                      969\n",
       "New Hampshire                 862\n",
       "District of Columbia          813\n",
       "Wyoming                       489\n",
       "Maine                         432\n",
       "Hawaii                        307\n",
       "Alaska                        224\n",
       "Vermont                       156\n",
       "Guam                          124\n",
       "Virgin Islands                 24\n",
       "Grand Princess                  3\n",
       "Northern Mariana Islands        2\n",
       "Diamond Princess                0\n",
       "American Samoa                  0\n",
       "Name: 1/9/21, dtype: int64"
      ]
     },
     "execution_count": 105,
     "metadata": {},
     "output_type": "execute_result"
    }
   ],
   "source": [
    "total_WA = data.groupby(['Province_State'])['1/9/21'].sum().sort_values(ascending=False) #1/9/2021 instead of 2020\n",
    "total_WA"
   ]
  },
  {
   "cell_type": "code",
   "execution_count": 120,
   "metadata": {},
   "outputs": [
    {
     "data": {
      "text/plain": [
       "Province_State\n",
       "Washington    3698\n",
       "Name: 1/9/21, dtype: int64"
      ]
     },
     "execution_count": 120,
     "metadata": {},
     "output_type": "execute_result"
    }
   ],
   "source": [
    "total_WA.take([28])"
   ]
  },
  {
   "cell_type": "markdown",
   "metadata": {},
   "source": [
    "In Washington State, there are 3698 confirmed deaths as of 1/9/21"
   ]
  },
  {
   "cell_type": "markdown",
   "metadata": {},
   "source": [
    "**(d) What is the average number of deaths for a county in Washington State, how does it compare to average number of cases  for a county nationally?**"
   ]
  },
  {
   "cell_type": "code",
   "execution_count": 70,
   "metadata": {},
   "outputs": [
    {
     "data": {
      "text/plain": [
       "90.1951219512195"
      ]
     },
     "execution_count": 70,
     "metadata": {},
     "output_type": "execute_result"
    }
   ],
   "source": [
    "#for a particular date?\n",
    "#average number of deahts in WA state\n",
    "WA_average = data[data.Province_State == \"Washington\"].mean()\n",
    "WA_avg = WA_average[\"1/9/21\"] #on Jan 9 '21' the average # deaths across different counties in WA is 90\n",
    "WA_avg"
   ]
  },
  {
   "cell_type": "code",
   "execution_count": 71,
   "metadata": {},
   "outputs": [
    {
     "data": {
      "text/plain": [
       "141.61851898942862"
      ]
     },
     "execution_count": 71,
     "metadata": {},
     "output_type": "execute_result"
    }
   ],
   "source": [
    "national_average = data.groupby(['Province_State'])['1/9/21'].mean().sort_values(ascending=False) #get the mean for each state\n",
    "national_average = national_average.mean() #then get the mean for the national\n",
    "national_average"
   ]
  },
  {
   "cell_type": "markdown",
   "metadata": {},
   "source": [
    "National average = 141 people (rounded down)\n",
    "Washington average number of deaths per county = 90 people (rounded down)"
   ]
  },
  {
   "cell_type": "markdown",
   "metadata": {},
   "source": [
    "### 3. Extra task (not graded)\n",
    "\n",
    "If you still have time/interest, then try to understand the issues in data."
   ]
  },
  {
   "cell_type": "markdown",
   "metadata": {},
   "source": [
    "**(a) In 1c, we found that some columns have NULL/NA values. Briefly look at those values. Can you understand why those rows are included as separate entries? Googling some entries may help, as well as referring to the Github data source for variable definitions. Furthermore, how does this hypothesis affect how you would go about analyzing the dataset?**"
   ]
  },
  {
   "cell_type": "code",
   "execution_count": 27,
   "metadata": {},
   "outputs": [],
   "source": [
    "# look at data"
   ]
  },
  {
   "cell_type": "code",
   "execution_count": 14,
   "metadata": {},
   "outputs": [],
   "source": [
    "# look at data"
   ]
  },
  {
   "cell_type": "code",
   "execution_count": null,
   "metadata": {},
   "outputs": [],
   "source": []
  }
 ],
 "metadata": {
  "kernelspec": {
   "display_name": "Python 3",
   "language": "python",
   "name": "python3"
  },
  "language_info": {
   "codemirror_mode": {
    "name": "ipython",
    "version": 3
   },
   "file_extension": ".py",
   "mimetype": "text/x-python",
   "name": "python",
   "nbconvert_exporter": "python",
   "pygments_lexer": "ipython3",
   "version": "3.8.3"
  }
 },
 "nbformat": 4,
 "nbformat_minor": 4
}
